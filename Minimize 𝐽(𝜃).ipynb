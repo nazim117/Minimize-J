{
 "cells": [
  {
   "cell_type": "code",
   "execution_count": 1,
   "id": "534ee844-0233-477d-831d-430cd460d52c",
   "metadata": {},
   "outputs": [],
   "source": [
    "import numpy as np\n",
    "\n",
    "# Dataset\n",
    "x = np.array([1, 2, 3])\n",
    "y = np.array([1, 2, 3])"
   ]
  },
  {
   "cell_type": "code",
   "execution_count": 3,
   "id": "5f664e2d-3d9f-40fb-aeb7-5e799b48f8a8",
   "metadata": {},
   "outputs": [],
   "source": [
    "# Parameters\n",
    "theta_0, theta_1 = 0, 0\n",
    "alpha = 0.1\n",
    "iterations = 10"
   ]
  },
  {
   "cell_type": "code",
   "execution_count": 5,
   "id": "ad1a53a7-b3c0-48b5-a5bd-03e994e989fd",
   "metadata": {},
   "outputs": [
    {
     "name": "stdout",
     "output_type": "stream",
     "text": [
      "Cost: 2.333333333333333, theta_0: 0.2, theta_1: 0.4666666666666666\n",
      "Cost: 0.47037037037037044, theta_0: 0.2866666666666667, theta_1: 0.6755555555555555\n",
      "Cost: 0.10069053497942396, theta_0: 0.32288888888888895, theta_1: 0.7696296296296296\n",
      "Cost: 0.027191735711019658, theta_0: 0.3366740740740741, theta_1: 0.812558024691358\n",
      "Cost: 0.012441495368592213, theta_0: 0.3404950617283951, theta_1: 0.8326961316872428\n",
      "Cost: 0.009347525082570975, theta_0: 0.33990632921810704, theta_1: 0.8426722578875171\n",
      "Cost: 0.008569475399171116, theta_0: 0.33738124471879294, theta_1: 0.848110605029721\n",
      "Cost: 0.008254691918374142, theta_0: 0.33402099924096945, theta_1: 0.8515160737387593\n",
      "Cost: 0.008035626626855431, theta_0: 0.33031568456912064, theta_1: 0.8540043728124778\n",
      "Cost: 0.00783928869414296, theta_0: 0.32648324154971303, theta_1: 0.856072528586164\n"
     ]
    }
   ],
   "source": [
    "# Gradient Descent\n",
    "for _ in range(iterations):\n",
    "    # Predictions\n",
    "    predictions = theta_0 + theta_1 * x\n",
    "    \n",
    "    # Gradients\n",
    "    gradient_theta_0 = (1 / len(x)) * np.sum(predictions - y)\n",
    "    gradient_theta_1 = (1 / len(x)) * np.sum((predictions - y) * x)\n",
    "    \n",
    "    # Update Parameters\n",
    "    theta_0 -= alpha * gradient_theta_0\n",
    "    theta_1 -= alpha * gradient_theta_1\n",
    "    \n",
    "    # Compute Cost\n",
    "    cost = (1 / (2 * len(x))) * np.sum((predictions - y) ** 2)\n",
    "    print(f\"Cost: {cost}, theta_0: {theta_0}, theta_1: {theta_1}\")"
   ]
  },
  {
   "cell_type": "code",
   "execution_count": null,
   "id": "e3221605-c204-4cb3-9838-c9c17708d135",
   "metadata": {},
   "outputs": [],
   "source": []
  }
 ],
 "metadata": {
  "kernelspec": {
   "display_name": "Python 3 (ipykernel)",
   "language": "python",
   "name": "python3"
  },
  "language_info": {
   "codemirror_mode": {
    "name": "ipython",
    "version": 3
   },
   "file_extension": ".py",
   "mimetype": "text/x-python",
   "name": "python",
   "nbconvert_exporter": "python",
   "pygments_lexer": "ipython3",
   "version": "3.12.7"
  }
 },
 "nbformat": 4,
 "nbformat_minor": 5
}
